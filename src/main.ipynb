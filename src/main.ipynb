{
 "cells": [
  {
   "cell_type": "markdown",
   "id": "28050016-351a-4270-b937-c6839425b857",
   "metadata": {},
   "source": [
    "# Main"
   ]
  },
  {
   "cell_type": "code",
   "execution_count": 1,
   "id": "5c1f577a-5563-4d6a-8056-e27ad5c0443b",
   "metadata": {},
   "outputs": [],
   "source": [
    "import requests\n",
    "import json\n",
    "from bs4 import BeautifulSoup\n",
    "import os\n",
    "%load_ext dotenv\n",
    "%dotenv"
   ]
  },
  {
   "cell_type": "code",
   "execution_count": null,
   "id": "3977539e-bbfa-4e7d-ad33-f95f4dcaaeda",
   "metadata": {},
   "outputs": [],
   "source": [
    "def push(title, msg):\n",
    "    payload = {\n",
    "        \"token\": os.getenv(\"PUSH_TOKEN\"),\n",
    "        \"user\": os.getenv(\"PUSH_USER\"),\n",
    "        \"title\": title,\n",
    "        \"message\": msg\n",
    "    }\n",
    "\n",
    "    requests.post('https://api.pushover.net/1/messages.json', data=payload)"
   ]
  },
  {
   "cell_type": "code",
   "execution_count": 74,
   "id": "419a4ea2-d0f3-40f6-91f1-9d46e36f5f90",
   "metadata": {
    "tags": []
   },
   "outputs": [],
   "source": [
    "CASTLES = {\n",
    "    'Neuschwanstein': {\n",
    "        'name': 'Neuschwanstein',\n",
    "        'nPoolNr': 30,\n",
    "        'nTicketTypeNr': 44,\n",
    "        \"PersonSelection\":[{\"nPersonTypeNr\":\"1\",\"nCount\":\"1\"},{\"nPersonTypeNr\":\"3\",\"nCount\":\"0\"},{\"nPersonTypeNr\":\"15\",\"nCount\":\"0\"},{\"nPersonTypeNr\":\"16\",\"nCount\":\"0\"},{\"nPersonTypeNr\":\"17\",\"nCount\":\"0\"},{\"nPersonTypeNr\":\"19\",\"nCount\":\"0\"},{\"nPersonTypeNr\":\"30\",\"nCount\":\"0\"},{\"nPersonTypeNr\":\"31\",\"nCount\":\"0\"},{\"nPersonTypeNr\":\"32\",\"nCount\":\"0\"},{\"nPersonTypeNr\":\"63\",\"nCount\":\"0\"},{\"nPersonTypeNr\":\"2\",\"nCount\":\"0\"}]\n",
    "     },\n",
    "    'Hohenschwangnau':\n",
    "    {\n",
    "        'name': 'Hohenschwangnau',\n",
    "        'nPoolNr': 24,\n",
    "        'nTicketTypeNr': 41,\n",
    "        \"PersonSelection\": [{\"nPersonTypeNr\":\"29\",\"nCount\":\"1\"},{\"nPersonTypeNr\":\"33\",\"nCount\":\"0\"},{\"nPersonTypeNr\":\"34\",\"nCount\":\"0\"},{\"nPersonTypeNr\":\"63\",\"nCount\":\"0\"}],\n",
    "    }\n",
    "}"
   ]
  },
  {
   "cell_type": "code",
   "execution_count": null,
   "id": "67b265cc-8423-446a-9f8c-ed7bea28431e",
   "metadata": {},
   "outputs": [
    {
     "name": "stdout",
     "output_type": "stream",
     "text": [
      "Hohenschwangnau - 08.08.2021\n",
      "No free slots\n",
      "Hohenschwangnau - 09.08.2021\n"
     ]
    }
   ],
   "source": [
    "check_for_free_tickets(\"08.08.2021\", CASTLES['Hohenschwangnau'])\n",
    "check_for_free_tickets(\"09.08.2021\", CASTLES['Hohenschwangnau'])\n",
    "check_for_free_tickets(\"08.08.2021\", CASTLES['Neuschwanstein'])\n",
    "check_for_free_tickets(\"09.08.2021\", CASTLES['Neuschwanstein'])"
   ]
  },
  {
   "cell_type": "code",
   "execution_count": 86,
   "id": "9ea87409-9182-4591-9695-b0a738750eca",
   "metadata": {},
   "outputs": [],
   "source": [
    "def check_for_free_tickets(dtSelectedDate, castle):\n",
    "    print(\"%s - %s\" % (castle['name'], dtSelectedDate))\n",
    "    params = {\n",
    "        #\"PersonSelection\": [{\"nPersonTypeNr\":\"29\",\"nCount\":\"1\"},{\"nPersonTypeNr\":\"33\",\"nCount\":\"0\"},{\"nPersonTypeNr\":\"34\",\"nCount\":\"0\"},{\"nPersonTypeNr\":\"63\",\"nCount\":\"0\"}],\n",
    "        \"PersonSelection\": castle['PersonSelection'],\n",
    "        'electedSubContigents': [],\n",
    "        'bReservation': \"true\",\n",
    "        'dtSelectedDate': \"%s\" % dtSelectedDate,\n",
    "        'dtStartDate': \"%s\" % dtSelectedDate,\n",
    "        'nDays': 0,\n",
    "        'nPlaces': 2,\n",
    "        'nPoolNr': \"%s\" % castle['nPoolNr'],\n",
    "        'nTicketTypeNr': \"%s\" % castle['nTicketTypeNr']\n",
    "    }\n",
    "\n",
    "    headers = {\n",
    "        'User-Agent': 'Mozilla/5.0 (Macintosh; Intel Mac OS X 10_15_7) AppleWebKit/537.36 (KHTML, like Gecko) Chrome/92.0.4515.107 Safari/537.36',\n",
    "        'Host': 'shop.ticket-center-hohenschwangau.de',\n",
    "        'Accept': 'application/json, text/javascript, */*; q=0.01',\n",
    "        'X-Requested-With': 'XMLHttpRequest',\n",
    "        'Content-Type': 'application/json',\n",
    "        'Origin': 'https://shop.ticket-center-hohenschwangau.de',\n",
    "        'Sec-Fetch-Site': 'same-origin',\n",
    "        'Sec-Fetch-Mode': 'cors',\n",
    "        'Sec-Fetch-Dest': 'empty',\n",
    "        'Referer': 'https://shop.ticket-center-hohenschwangau.de/'\n",
    "    }\n",
    "\n",
    "    r = requests.post('https://shop.ticket-center-hohenschwangau.de/Shop/PerformResUpdate2/de-DE/39901/', data=json.dumps(params), headers=headers)\n",
    "\n",
    "    html = r.json()['szContent']\n",
    "    soup = BeautifulSoup(html, 'html.parser')   \n",
    "\n",
    "    if len(soup.select(\"h5\")) > 0 or (len(soup.select('.InfoText')) > 0):\n",
    "        # No free slots\n",
    "        print(\"No free slots\")\n",
    "    else:\n",
    "        print(\"found\")\n",
    "        l = \"\"\n",
    "        for i in soup.select('.radioRowI .txt-sm'):\n",
    "            print(i.text)\n",
    "            l = l + i.text + '\\n'\n",
    "\n",
    "        push(castle['name'], l)    \n",
    "        \n",
    "    with open('test.html', 'w') as f:\n",
    "        f.write(html)        \n"
   ]
  },
  {
   "cell_type": "code",
   "execution_count": 29,
   "id": "fd833c16-c73e-4909-a05a-68e2ec1a10a2",
   "metadata": {},
   "outputs": [
    {
     "name": "stdout",
     "output_type": "stream",
     "text": [
      "No free slots\n"
     ]
    }
   ],
   "source": []
  },
  {
   "cell_type": "code",
   "execution_count": 7,
   "id": "20663fe9-bbb3-4ffe-9a5f-10123530e27d",
   "metadata": {},
   "outputs": [],
   "source": []
  },
  {
   "cell_type": "code",
   "execution_count": 73,
   "id": "d0551894-79a1-422e-b08d-f0ae1325dfef",
   "metadata": {},
   "outputs": [],
   "source": []
  },
  {
   "cell_type": "code",
   "execution_count": null,
   "id": "2f8ff580-d162-4516-b3a5-94ed53f76001",
   "metadata": {},
   "outputs": [],
   "source": []
  }
 ],
 "metadata": {
  "kernelspec": {
   "display_name": "ticket",
   "language": "python",
   "name": "ticket"
  },
  "language_info": {
   "codemirror_mode": {
    "name": "ipython",
    "version": 3
   },
   "file_extension": ".py",
   "mimetype": "text/x-python",
   "name": "python",
   "nbconvert_exporter": "python",
   "pygments_lexer": "ipython3",
   "version": "3.9.6"
  }
 },
 "nbformat": 4,
 "nbformat_minor": 5
}
